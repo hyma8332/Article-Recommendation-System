{
 "cells": [
  {
   "cell_type": "code",
   "execution_count": 2,
   "id": "cfaeff55",
   "metadata": {},
   "outputs": [],
   "source": [
    "import numpy as np\n",
    "import pandas as pd\n",
    "import nltk\n",
    "import string,time\n",
    "import ast\n",
    "from sklearn.metrics.pairwise import cosine_similarity\n",
    "# from textblob import Textblob\n",
    "from nltk.tokenize import word_tokenize,sent_tokenize"
   ]
  },
  {
   "cell_type": "code",
   "execution_count": 3,
   "id": "b0f5d3d5",
   "metadata": {},
   "outputs": [
    {
     "data": {
      "text/html": [
       "<div>\n",
       "<style scoped>\n",
       "    .dataframe tbody tr th:only-of-type {\n",
       "        vertical-align: middle;\n",
       "    }\n",
       "\n",
       "    .dataframe tbody tr th {\n",
       "        vertical-align: top;\n",
       "    }\n",
       "\n",
       "    .dataframe thead th {\n",
       "        text-align: right;\n",
       "    }\n",
       "</style>\n",
       "<table border=\"1\" class=\"dataframe\">\n",
       "  <thead>\n",
       "    <tr style=\"text-align: right;\">\n",
       "      <th></th>\n",
       "      <th>heading</th>\n",
       "      <th>content_summary</th>\n",
       "      <th>article_link</th>\n",
       "      <th>img_link</th>\n",
       "      <th>month_date</th>\n",
       "      <th>time</th>\n",
       "      <th>Year</th>\n",
       "    </tr>\n",
       "  </thead>\n",
       "  <tbody>\n",
       "    <tr>\n",
       "      <th>0</th>\n",
       "      <td>Uttarakhand: Man, 39, held for killing consta...</td>\n",
       "      <td>Nainital district police on Monday arrested a...</td>\n",
       "      <td>https://timesofindia.indiatimes.com/city/dehra...</td>\n",
       "      <td>https://static.toiimg.com/thumb/imgsize-123456...</td>\n",
       "      <td>Nov 08</td>\n",
       "      <td>09:55</td>\n",
       "      <td>2022</td>\n",
       "    </tr>\n",
       "    <tr>\n",
       "      <th>1</th>\n",
       "      <td>Nashik city: Another theft from parked car, s...</td>\n",
       "      <td>Thefts from parked cars continues in the city...</td>\n",
       "      <td>https://timesofindia.indiatimes.com/city/nashi...</td>\n",
       "      <td>https://static.toiimg.com/thumb/imgsize-123456...</td>\n",
       "      <td>Nov 08</td>\n",
       "      <td>08:25</td>\n",
       "      <td>2022</td>\n",
       "    </tr>\n",
       "    <tr>\n",
       "      <th>2</th>\n",
       "      <td>Pune: Externed criminal jumps from bus fearin...</td>\n",
       "      <td>An externed criminal died in the early hours ...</td>\n",
       "      <td>https://timesofindia.indiatimes.com/city/pune/...</td>\n",
       "      <td>https://static.toiimg.com/thumb/imgsize-123456...</td>\n",
       "      <td>Nov 08</td>\n",
       "      <td>05:17</td>\n",
       "      <td>2022</td>\n",
       "    </tr>\n",
       "    <tr>\n",
       "      <th>3</th>\n",
       "      <td>Gaya woman burned alive on suspicion of witch...</td>\n",
       "      <td>A middle-aged woman was badly thrashed and bu...</td>\n",
       "      <td>https://timesofindia.indiatimes.com/city/patna...</td>\n",
       "      <td>https://static.toiimg.com/thumb/imgsize-123456...</td>\n",
       "      <td>Nov 06</td>\n",
       "      <td>05:24</td>\n",
       "      <td>2022</td>\n",
       "    </tr>\n",
       "    <tr>\n",
       "      <th>4</th>\n",
       "      <td>Man held on charge of stalking in Pune</td>\n",
       "      <td>A man (33) was arrested on Tuesday from Khed ...</td>\n",
       "      <td>https://timesofindia.indiatimes.com/city/pune/...</td>\n",
       "      <td>https://static.toiimg.com/thumb/imgsize-123456...</td>\n",
       "      <td>Nov 03</td>\n",
       "      <td>08:32</td>\n",
       "      <td>2022</td>\n",
       "    </tr>\n",
       "  </tbody>\n",
       "</table>\n",
       "</div>"
      ],
      "text/plain": [
       "                                             heading  \\\n",
       "0   Uttarakhand: Man, 39, held for killing consta...   \n",
       "1   Nashik city: Another theft from parked car, s...   \n",
       "2   Pune: Externed criminal jumps from bus fearin...   \n",
       "3   Gaya woman burned alive on suspicion of witch...   \n",
       "4            Man held on charge of stalking in Pune    \n",
       "\n",
       "                                     content_summary  \\\n",
       "0   Nainital district police on Monday arrested a...   \n",
       "1   Thefts from parked cars continues in the city...   \n",
       "2   An externed criminal died in the early hours ...   \n",
       "3   A middle-aged woman was badly thrashed and bu...   \n",
       "4   A man (33) was arrested on Tuesday from Khed ...   \n",
       "\n",
       "                                        article_link  \\\n",
       "0  https://timesofindia.indiatimes.com/city/dehra...   \n",
       "1  https://timesofindia.indiatimes.com/city/nashi...   \n",
       "2  https://timesofindia.indiatimes.com/city/pune/...   \n",
       "3  https://timesofindia.indiatimes.com/city/patna...   \n",
       "4  https://timesofindia.indiatimes.com/city/pune/...   \n",
       "\n",
       "                                            img_link month_date   time  Year  \n",
       "0  https://static.toiimg.com/thumb/imgsize-123456...     Nov 08  09:55  2022  \n",
       "1  https://static.toiimg.com/thumb/imgsize-123456...     Nov 08  08:25  2022  \n",
       "2  https://static.toiimg.com/thumb/imgsize-123456...     Nov 08  05:17  2022  \n",
       "3  https://static.toiimg.com/thumb/imgsize-123456...     Nov 06  05:24  2022  \n",
       "4  https://static.toiimg.com/thumb/imgsize-123456...     Nov 03  08:32  2022  "
      ]
     },
     "execution_count": 3,
     "metadata": {},
     "output_type": "execute_result"
    }
   ],
   "source": [
    "df=pd.read_csv('C:\\\\Users\\\\HYMA\\\\Downloads\\\\crime_articles\\\\7k  Unique crime articles.csv')\n",
    "df.head()"
   ]
  },
  {
   "cell_type": "code",
   "execution_count": 4,
   "id": "5a173fd7",
   "metadata": {},
   "outputs": [
    {
     "data": {
      "text/plain": [
       "(7617, 7)"
      ]
     },
     "execution_count": 4,
     "metadata": {},
     "output_type": "execute_result"
    }
   ],
   "source": [
    "df.shape"
   ]
  },
  {
   "cell_type": "code",
   "execution_count": 5,
   "id": "0e3c82a1",
   "metadata": {},
   "outputs": [
    {
     "data": {
      "text/html": [
       "<div>\n",
       "<style scoped>\n",
       "    .dataframe tbody tr th:only-of-type {\n",
       "        vertical-align: middle;\n",
       "    }\n",
       "\n",
       "    .dataframe tbody tr th {\n",
       "        vertical-align: top;\n",
       "    }\n",
       "\n",
       "    .dataframe thead th {\n",
       "        text-align: right;\n",
       "    }\n",
       "</style>\n",
       "<table border=\"1\" class=\"dataframe\">\n",
       "  <thead>\n",
       "    <tr style=\"text-align: right;\">\n",
       "      <th></th>\n",
       "      <th>heading</th>\n",
       "      <th>content_summary</th>\n",
       "      <th>article_link</th>\n",
       "      <th>img_link</th>\n",
       "      <th>month_date</th>\n",
       "      <th>time</th>\n",
       "      <th>Year</th>\n",
       "    </tr>\n",
       "  </thead>\n",
       "  <tbody>\n",
       "    <tr>\n",
       "      <th>7615</th>\n",
       "      <td>Illegal granite mining in TN: ED tags assets ...</td>\n",
       "      <td>The Enforcement directorate (ED) has told the...</td>\n",
       "      <td>https://timesofindia.indiatimes.com/city/chenn...</td>\n",
       "      <td>https://static.toiimg.com/thumb/imgsize-123456...</td>\n",
       "      <td>Nov 10</td>\n",
       "      <td>04:39</td>\n",
       "      <td>2020</td>\n",
       "    </tr>\n",
       "    <tr>\n",
       "      <th>7616</th>\n",
       "      <td>Pramod Sawant asks Goa police to ‘zero down’ ...</td>\n",
       "      <td>Chief minister Pramod Sawant on Friday held a...</td>\n",
       "      <td>https://timesofindia.indiatimes.com/city/goa/c...</td>\n",
       "      <td>https://static.toiimg.com/thumb/imgsize-123456...</td>\n",
       "      <td>Oct 24</td>\n",
       "      <td>04:27</td>\n",
       "      <td>2020</td>\n",
       "    </tr>\n",
       "  </tbody>\n",
       "</table>\n",
       "</div>"
      ],
      "text/plain": [
       "                                                heading  \\\n",
       "7615   Illegal granite mining in TN: ED tags assets ...   \n",
       "7616   Pramod Sawant asks Goa police to ‘zero down’ ...   \n",
       "\n",
       "                                        content_summary  \\\n",
       "7615   The Enforcement directorate (ED) has told the...   \n",
       "7616   Chief minister Pramod Sawant on Friday held a...   \n",
       "\n",
       "                                           article_link  \\\n",
       "7615  https://timesofindia.indiatimes.com/city/chenn...   \n",
       "7616  https://timesofindia.indiatimes.com/city/goa/c...   \n",
       "\n",
       "                                               img_link month_date   time  \\\n",
       "7615  https://static.toiimg.com/thumb/imgsize-123456...     Nov 10  04:39   \n",
       "7616  https://static.toiimg.com/thumb/imgsize-123456...     Oct 24  04:27   \n",
       "\n",
       "      Year  \n",
       "7615  2020  \n",
       "7616  2020  "
      ]
     },
     "execution_count": 5,
     "metadata": {},
     "output_type": "execute_result"
    }
   ],
   "source": [
    "df.tail(2)"
   ]
  },
  {
   "cell_type": "code",
   "execution_count": 6,
   "id": "a72a08cb",
   "metadata": {},
   "outputs": [
    {
     "name": "stdout",
     "output_type": "stream",
     "text": [
      "<class 'pandas.core.frame.DataFrame'>\n",
      "RangeIndex: 7617 entries, 0 to 7616\n",
      "Data columns (total 7 columns):\n",
      " #   Column           Non-Null Count  Dtype \n",
      "---  ------           --------------  ----- \n",
      " 0   heading          7617 non-null   object\n",
      " 1   content_summary  7617 non-null   object\n",
      " 2   article_link     7617 non-null   object\n",
      " 3   img_link         7617 non-null   object\n",
      " 4   month_date       7617 non-null   object\n",
      " 5   time             7617 non-null   object\n",
      " 6   Year             7617 non-null   object\n",
      "dtypes: object(7)\n",
      "memory usage: 416.7+ KB\n"
     ]
    }
   ],
   "source": [
    "df.info()"
   ]
  },
  {
   "cell_type": "code",
   "execution_count": 7,
   "id": "ffbf6422",
   "metadata": {},
   "outputs": [
    {
     "data": {
      "text/plain": [
       "heading            0\n",
       "content_summary    0\n",
       "article_link       0\n",
       "img_link           0\n",
       "month_date         0\n",
       "time               0\n",
       "Year               0\n",
       "dtype: int64"
      ]
     },
     "execution_count": 7,
     "metadata": {},
     "output_type": "execute_result"
    }
   ],
   "source": [
    "df.isnull().sum()"
   ]
  },
  {
   "cell_type": "code",
   "execution_count": 8,
   "id": "74df553a",
   "metadata": {},
   "outputs": [],
   "source": [
    "#making some plots\n",
    "df[\"heading_len\"]=df[\"heading\"].apply(lambda x:len(x))\n",
    "#count words\n",
    "df[\"word_count\"]=df[\"heading\"].apply(lambda x:len(x.split()))"
   ]
  },
  {
   "cell_type": "code",
   "execution_count": 9,
   "id": "932438e1",
   "metadata": {},
   "outputs": [],
   "source": [
    "def get_avg_word_len(x):\n",
    "    words=x.split()\n",
    "    word_len=0\n",
    "    for word in words:\n",
    "        word_len=word_len+len(word)\n",
    "    return word_len/len(words)"
   ]
  },
  {
   "cell_type": "code",
   "execution_count": 10,
   "id": "32936d76",
   "metadata": {},
   "outputs": [
    {
     "data": {
      "text/html": [
       "<div>\n",
       "<style scoped>\n",
       "    .dataframe tbody tr th:only-of-type {\n",
       "        vertical-align: middle;\n",
       "    }\n",
       "\n",
       "    .dataframe tbody tr th {\n",
       "        vertical-align: top;\n",
       "    }\n",
       "\n",
       "    .dataframe thead th {\n",
       "        text-align: right;\n",
       "    }\n",
       "</style>\n",
       "<table border=\"1\" class=\"dataframe\">\n",
       "  <thead>\n",
       "    <tr style=\"text-align: right;\">\n",
       "      <th></th>\n",
       "      <th>heading</th>\n",
       "      <th>content_summary</th>\n",
       "      <th>article_link</th>\n",
       "      <th>img_link</th>\n",
       "      <th>month_date</th>\n",
       "      <th>time</th>\n",
       "      <th>Year</th>\n",
       "      <th>heading_len</th>\n",
       "      <th>word_count</th>\n",
       "      <th>avg_word_len</th>\n",
       "    </tr>\n",
       "  </thead>\n",
       "  <tbody>\n",
       "    <tr>\n",
       "      <th>0</th>\n",
       "      <td>Uttarakhand: Man, 39, held for killing consta...</td>\n",
       "      <td>Nainital district police on Monday arrested a...</td>\n",
       "      <td>https://timesofindia.indiatimes.com/city/dehra...</td>\n",
       "      <td>https://static.toiimg.com/thumb/imgsize-123456...</td>\n",
       "      <td>Nov 08</td>\n",
       "      <td>09:55</td>\n",
       "      <td>2022</td>\n",
       "      <td>69</td>\n",
       "      <td>10</td>\n",
       "      <td>5.800000</td>\n",
       "    </tr>\n",
       "    <tr>\n",
       "      <th>1</th>\n",
       "      <td>Nashik city: Another theft from parked car, s...</td>\n",
       "      <td>Thefts from parked cars continues in the city...</td>\n",
       "      <td>https://timesofindia.indiatimes.com/city/nashi...</td>\n",
       "      <td>https://static.toiimg.com/thumb/imgsize-123456...</td>\n",
       "      <td>Nov 08</td>\n",
       "      <td>08:25</td>\n",
       "      <td>2022</td>\n",
       "      <td>68</td>\n",
       "      <td>12</td>\n",
       "      <td>4.583333</td>\n",
       "    </tr>\n",
       "    <tr>\n",
       "      <th>2</th>\n",
       "      <td>Pune: Externed criminal jumps from bus fearin...</td>\n",
       "      <td>An externed criminal died in the early hours ...</td>\n",
       "      <td>https://timesofindia.indiatimes.com/city/pune/...</td>\n",
       "      <td>https://static.toiimg.com/thumb/imgsize-123456...</td>\n",
       "      <td>Nov 08</td>\n",
       "      <td>05:17</td>\n",
       "      <td>2022</td>\n",
       "      <td>72</td>\n",
       "      <td>12</td>\n",
       "      <td>4.916667</td>\n",
       "    </tr>\n",
       "    <tr>\n",
       "      <th>3</th>\n",
       "      <td>Gaya woman burned alive on suspicion of witch...</td>\n",
       "      <td>A middle-aged woman was badly thrashed and bu...</td>\n",
       "      <td>https://timesofindia.indiatimes.com/city/patna...</td>\n",
       "      <td>https://static.toiimg.com/thumb/imgsize-123456...</td>\n",
       "      <td>Nov 06</td>\n",
       "      <td>05:24</td>\n",
       "      <td>2022</td>\n",
       "      <td>52</td>\n",
       "      <td>8</td>\n",
       "      <td>5.375000</td>\n",
       "    </tr>\n",
       "    <tr>\n",
       "      <th>4</th>\n",
       "      <td>Man held on charge of stalking in Pune</td>\n",
       "      <td>A man (33) was arrested on Tuesday from Khed ...</td>\n",
       "      <td>https://timesofindia.indiatimes.com/city/pune/...</td>\n",
       "      <td>https://static.toiimg.com/thumb/imgsize-123456...</td>\n",
       "      <td>Nov 03</td>\n",
       "      <td>08:32</td>\n",
       "      <td>2022</td>\n",
       "      <td>40</td>\n",
       "      <td>8</td>\n",
       "      <td>3.875000</td>\n",
       "    </tr>\n",
       "  </tbody>\n",
       "</table>\n",
       "</div>"
      ],
      "text/plain": [
       "                                             heading  \\\n",
       "0   Uttarakhand: Man, 39, held for killing consta...   \n",
       "1   Nashik city: Another theft from parked car, s...   \n",
       "2   Pune: Externed criminal jumps from bus fearin...   \n",
       "3   Gaya woman burned alive on suspicion of witch...   \n",
       "4            Man held on charge of stalking in Pune    \n",
       "\n",
       "                                     content_summary  \\\n",
       "0   Nainital district police on Monday arrested a...   \n",
       "1   Thefts from parked cars continues in the city...   \n",
       "2   An externed criminal died in the early hours ...   \n",
       "3   A middle-aged woman was badly thrashed and bu...   \n",
       "4   A man (33) was arrested on Tuesday from Khed ...   \n",
       "\n",
       "                                        article_link  \\\n",
       "0  https://timesofindia.indiatimes.com/city/dehra...   \n",
       "1  https://timesofindia.indiatimes.com/city/nashi...   \n",
       "2  https://timesofindia.indiatimes.com/city/pune/...   \n",
       "3  https://timesofindia.indiatimes.com/city/patna...   \n",
       "4  https://timesofindia.indiatimes.com/city/pune/...   \n",
       "\n",
       "                                            img_link month_date   time  Year  \\\n",
       "0  https://static.toiimg.com/thumb/imgsize-123456...     Nov 08  09:55  2022   \n",
       "1  https://static.toiimg.com/thumb/imgsize-123456...     Nov 08  08:25  2022   \n",
       "2  https://static.toiimg.com/thumb/imgsize-123456...     Nov 08  05:17  2022   \n",
       "3  https://static.toiimg.com/thumb/imgsize-123456...     Nov 06  05:24  2022   \n",
       "4  https://static.toiimg.com/thumb/imgsize-123456...     Nov 03  08:32  2022   \n",
       "\n",
       "   heading_len  word_count  avg_word_len  \n",
       "0           69          10      5.800000  \n",
       "1           68          12      4.583333  \n",
       "2           72          12      4.916667  \n",
       "3           52           8      5.375000  \n",
       "4           40           8      3.875000  "
      ]
     },
     "execution_count": 10,
     "metadata": {},
     "output_type": "execute_result"
    }
   ],
   "source": [
    "df[\"avg_word_len\"]=df[\"heading\"].apply(lambda x:get_avg_word_len(x))\n",
    "df.head()"
   ]
  },
  {
   "cell_type": "code",
   "execution_count": 11,
   "id": "6dfec114",
   "metadata": {},
   "outputs": [],
   "source": [
    "#plots\n",
    "#import plotly as py\n",
    "#import cufflinks as cf\n",
    "#from plotly.offline import iplot\n",
    "#py.offline.init_notebook_mode(connected=True)\n",
    "#cf.go_online()\n",
    "#df.iplot()"
   ]
  },
  {
   "cell_type": "code",
   "execution_count": 12,
   "id": "f0cedabc",
   "metadata": {},
   "outputs": [
    {
     "data": {
      "text/plain": [
       "0        uttarakhand: man, 39, held for killing consta...\n",
       "1        nashik city: another theft from parked car, s...\n",
       "2        pune: externed criminal jumps from bus fearin...\n",
       "3        gaya woman burned alive on suspicion of witch...\n",
       "4                 man held on charge of stalking in pune \n",
       "                              ...                        \n",
       "7612     mumbai: borivli businessman duped of rs 1 lak...\n",
       "7613     former new york governor cuomo accused of gro...\n",
       "7614     delhi cop and neighbour injured in shooting; ...\n",
       "7615     illegal granite mining in tn: ed tags assets ...\n",
       "7616     pramod sawant asks goa police to ‘zero down’ ...\n",
       "Name: heading, Length: 7617, dtype: object"
      ]
     },
     "execution_count": 12,
     "metadata": {},
     "output_type": "execute_result"
    }
   ],
   "source": [
    "#making it lowercase\n",
    "df[\"heading\"].str.lower()"
   ]
  },
  {
   "cell_type": "code",
   "execution_count": 13,
   "id": "a9929d00",
   "metadata": {},
   "outputs": [
    {
     "data": {
      "text/plain": [
       "0        nainital district police on monday arrested a...\n",
       "1        thefts from parked cars continues in the city...\n",
       "2        an externed criminal died in the early hours ...\n",
       "3        a middle-aged woman was badly thrashed and bu...\n",
       "4        a man (33) was arrested on tuesday from khed ...\n",
       "                              ...                        \n",
       "7612     a smalltime businessman from borivli was dupe...\n",
       "7613     the filing from the albany county sheriff's o...\n",
       "7614     a policeman and his neighbour were shot at by...\n",
       "7615     the enforcement directorate (ed) has told the...\n",
       "7616     chief minister pramod sawant on friday held a...\n",
       "Name: content_summary, Length: 7617, dtype: object"
      ]
     },
     "execution_count": 13,
     "metadata": {},
     "output_type": "execute_result"
    }
   ],
   "source": [
    "df[\"content_summary\"].str.lower()"
   ]
  },
  {
   "cell_type": "code",
   "execution_count": 14,
   "id": "3be120cb",
   "metadata": {},
   "outputs": [],
   "source": [
    "import re"
   ]
  },
  {
   "cell_type": "code",
   "execution_count": 15,
   "id": "dbf42ec1",
   "metadata": {},
   "outputs": [],
   "source": [
    "#removing the tags\n",
    "def remove_tags(text):\n",
    "    pattern=re.compile('<.-*?>')\n",
    "    return pattern.sub(r'',text)"
   ]
  },
  {
   "cell_type": "code",
   "execution_count": 16,
   "id": "09b9a655",
   "metadata": {},
   "outputs": [
    {
     "data": {
      "text/plain": [
       "0        Uttarakhand: Man, 39, held for killing consta...\n",
       "1        Nashik city: Another theft from parked car, s...\n",
       "2        Pune: Externed criminal jumps from bus fearin...\n",
       "3        Gaya woman burned alive on suspicion of witch...\n",
       "4                 Man held on charge of stalking in Pune \n",
       "                              ...                        \n",
       "7612     Mumbai: Borivli businessman duped of Rs 1 lak...\n",
       "7613     Former New York governor Cuomo accused of gro...\n",
       "7614     Delhi cop and neighbour injured in shooting; ...\n",
       "7615     Illegal granite mining in TN: ED tags assets ...\n",
       "7616     Pramod Sawant asks Goa police to ‘zero down’ ...\n",
       "Name: heading, Length: 7617, dtype: object"
      ]
     },
     "execution_count": 16,
     "metadata": {},
     "output_type": "execute_result"
    }
   ],
   "source": [
    "#tag removal operation\n",
    "df[\"heading\"]=df[\"heading\"].apply(remove_tags)\n",
    "df[\"content_summary\"]=df[\"content_summary\"].apply(remove_tags)\n",
    "df[\"heading\"]"
   ]
  },
  {
   "cell_type": "code",
   "execution_count": 18,
   "id": "e1c972c3",
   "metadata": {},
   "outputs": [],
   "source": [
    "#removing punctuation\n",
    "punctuation=string.punctuation"
   ]
  },
  {
   "cell_type": "code",
   "execution_count": 19,
   "id": "aa1e4696",
   "metadata": {},
   "outputs": [],
   "source": [
    "#implement string removing\n",
    "def remove_punc(text):\n",
    "    return text.translate(str.maketrans('','',punctuation))"
   ]
  },
  {
   "cell_type": "code",
   "execution_count": 20,
   "id": "d6b4bcd6",
   "metadata": {},
   "outputs": [],
   "source": [
    "df[\"heading\"]=df[\"heading\"].apply(remove_punc)\n",
    "df[\"content_summary\"]=df[\"content_summary\"].apply(remove_punc)"
   ]
  },
  {
   "cell_type": "code",
   "execution_count": 21,
   "id": "182c77d0",
   "metadata": {},
   "outputs": [
    {
     "data": {
      "text/plain": [
       "0        Uttarakhand Man 39 held for killing constable...\n",
       "1        Nashik city Another theft from parked car sev...\n",
       "2        Pune Externed criminal jumps from bus fearing...\n",
       "3        Gaya woman burned alive on suspicion of witch...\n",
       "4                 Man held on charge of stalking in Pune \n",
       "                              ...                        \n",
       "7612     Mumbai Borivli businessman duped of Rs 1 lakh...\n",
       "7613     Former New York governor Cuomo accused of gro...\n",
       "7614     Delhi cop and neighbour injured in shooting g...\n",
       "7615     Illegal granite mining in TN ED tags assets w...\n",
       "7616     Pramod Sawant asks Goa police to ‘zero down’ ...\n",
       "Name: heading, Length: 7617, dtype: object"
      ]
     },
     "execution_count": 21,
     "metadata": {},
     "output_type": "execute_result"
    }
   ],
   "source": [
    "df[\"heading\"]"
   ]
  },
  {
   "cell_type": "code",
   "execution_count": 21,
   "id": "b1ec8ca5",
   "metadata": {},
   "outputs": [
    {
     "data": {
      "text/plain": [
       "'chocol'"
      ]
     },
     "execution_count": 21,
     "metadata": {},
     "output_type": "execute_result"
    }
   ],
   "source": [
    "from nltk.stem import PorterStemmer\n",
    "porter=PorterStemmer()\n",
    "porter.stem('chocolate')"
   ]
  },
  {
   "cell_type": "code",
   "execution_count": 22,
   "id": "01215307",
   "metadata": {},
   "outputs": [
    {
     "name": "stdout",
     "output_type": "stream",
     "text": [
      "python\n"
     ]
    }
   ],
   "source": [
    "from nltk.stem import WordNetLemmatizer\n",
    "lemmatizer=WordNetLemmatizer()\n",
    "print(lemmatizer.lemmatize('python'))"
   ]
  },
  {
   "cell_type": "code",
   "execution_count": 23,
   "id": "8c8424ff",
   "metadata": {},
   "outputs": [],
   "source": [
    "#stemming\n",
    "def stem(text):\n",
    "    lst =[]\n",
    "    for i in text.split():\n",
    "        lst.append(ps.stem(i))\n",
    "    return \" \".join(lst)"
   ]
  },
  {
   "cell_type": "code",
   "execution_count": 24,
   "id": "14c27559",
   "metadata": {},
   "outputs": [],
   "source": [
    "df['heading']=df['heading'].apply(lambda x:x.lower())"
   ]
  },
  {
   "cell_type": "code",
   "execution_count": 25,
   "id": "54de6baf",
   "metadata": {},
   "outputs": [],
   "source": [
    "from sklearn.feature_extraction.text import CountVectorizer\n",
    "cv=CountVectorizer(max_features=5000,stop_words='english')"
   ]
  },
  {
   "cell_type": "code",
   "execution_count": 26,
   "id": "24edba6a",
   "metadata": {},
   "outputs": [],
   "source": [
    "cv._validate_vocabulary()"
   ]
  },
  {
   "cell_type": "code",
   "execution_count": 27,
   "id": "47dd8f5a",
   "metadata": {
    "scrolled": false
   },
   "outputs": [],
   "source": [
    "# making heading to array\n",
    "vectors=cv.fit_transform(df['heading']).toarray()"
   ]
  },
  {
   "cell_type": "code",
   "execution_count": 28,
   "id": "d9955ebf",
   "metadata": {},
   "outputs": [
    {
     "data": {
      "text/plain": [
       "array([[0, 0, 0, ..., 0, 0, 0],\n",
       "       [0, 0, 0, ..., 0, 0, 0],\n",
       "       [0, 0, 0, ..., 0, 0, 0],\n",
       "       ...,\n",
       "       [0, 0, 0, ..., 0, 0, 0],\n",
       "       [0, 0, 0, ..., 0, 0, 0],\n",
       "       [0, 0, 0, ..., 1, 0, 0]], dtype=int64)"
      ]
     },
     "execution_count": 28,
     "metadata": {},
     "output_type": "execute_result"
    }
   ],
   "source": [
    "vectors"
   ]
  },
  {
   "cell_type": "code",
   "execution_count": 29,
   "id": "6a015230",
   "metadata": {},
   "outputs": [
    {
     "data": {
      "text/plain": [
       "(7617, 5000)"
      ]
     },
     "execution_count": 29,
     "metadata": {},
     "output_type": "execute_result"
    }
   ],
   "source": [
    "vectors.shape"
   ]
  },
  {
   "cell_type": "code",
   "execution_count": 30,
   "id": "a0a4bdae",
   "metadata": {},
   "outputs": [
    {
     "name": "stderr",
     "output_type": "stream",
     "text": [
      "C:\\Users\\HYMA\\AppData\\Local\\Programs\\Python\\Python39\\lib\\site-packages\\sklearn\\utils\\extmath.py:193: RuntimeWarning: invalid value encountered in matmul\n",
      "  ret = a @ b\n"
     ]
    }
   ],
   "source": [
    "# measuring the similarity between the vectors\n",
    "similarity=cosine_similarity(vectors)"
   ]
  },
  {
   "cell_type": "code",
   "execution_count": 31,
   "id": "f0d066f9",
   "metadata": {},
   "outputs": [
    {
     "data": {
      "text/plain": [
       "array([0.        , 0.        , 0.23570226, ..., 0.        , 0.        ,\n",
       "       0.        ])"
      ]
     },
     "execution_count": 31,
     "metadata": {},
     "output_type": "execute_result"
    }
   ],
   "source": [
    "similarity[5]"
   ]
  },
  {
   "cell_type": "code",
   "execution_count": 32,
   "id": "3a8c5a69",
   "metadata": {},
   "outputs": [],
   "source": [
    "#Recommendation Function\n",
    "\n",
    "def recommend(tag):\n",
    "    \n",
    "    heading_index=df[df[\"heading\"]==tag].index[0]\n",
    "    distances=similarity[heading_index]\n",
    "    heading_list=sorted(list(enumerate(distances)),reverse=True,key=lambda x:x[1])[1:6]\n",
    "    \n",
    "    for i in heading_list:\n",
    "        print(df.iloc[i[0]].heading)\n",
    "    "
   ]
  },
  {
   "cell_type": "code",
   "execution_count": 33,
   "id": "a5e8383c",
   "metadata": {},
   "outputs": [
    {
     "data": {
      "text/plain": [
       "' uttarakhand man 39 held for killing constable’s wife in haldwani '"
      ]
     },
     "execution_count": 33,
     "metadata": {},
     "output_type": "execute_result"
    }
   ],
   "source": [
    "df['heading'][0]"
   ]
  },
  {
   "cell_type": "code",
   "execution_count": 34,
   "id": "fce0198a",
   "metadata": {},
   "outputs": [
    {
     "name": "stdout",
     "output_type": "stream",
     "text": [
      " uttarakhand man held for killing constable’s wife in us nagar \n",
      " pune man held for killing wife \n",
      " man held after killing wife in front of children \n",
      " navi mumbai man held for killing wife 2 more arrested \n",
      " man wife held for killing niece in northeast delhi \n"
     ]
    }
   ],
   "source": [
    "#top 5 similar type of heading  \n",
    "\n",
    "recommend(' uttarakhand man 39 held for killing constable’s wife in haldwani ')"
   ]
  },
  {
   "cell_type": "code",
   "execution_count": 35,
   "id": "2a4db02b",
   "metadata": {},
   "outputs": [
    {
     "name": "stdout",
     "output_type": "stream",
     "text": [
      "[1012]\n",
      "[5901]\n",
      "[6968]\n",
      "[781]\n",
      "[4336]\n",
      "[6223]\n",
      "[3303]\n",
      "[6682]\n",
      "[94]\n",
      "[443]\n",
      "[6681]\n",
      "[109]\n",
      "[2682]\n",
      "[2979]\n"
     ]
    }
   ],
   "source": [
    "#internal things happening inside above function\n",
    "\n",
    "x=df[df[\"heading\"]==' uttarakhand man 39 held for killing constable’s wife in haldwani '].index[0]\n",
    "\n",
    "distances=similarity[x]\n",
    "\n",
    "heading_list=sorted(list(enumerate(distances)),reverse=True,key=lambda x:x[1])[1:15]\n",
    "\n",
    "heading_list\n",
    "\n",
    "for i in heading_list:\n",
    "    print([i[0]])"
   ]
  },
  {
   "cell_type": "code",
   "execution_count": 36,
   "id": "7c5274de",
   "metadata": {},
   "outputs": [
    {
     "data": {
      "text/html": [
       "<div>\n",
       "<style scoped>\n",
       "    .dataframe tbody tr th:only-of-type {\n",
       "        vertical-align: middle;\n",
       "    }\n",
       "\n",
       "    .dataframe tbody tr th {\n",
       "        vertical-align: top;\n",
       "    }\n",
       "\n",
       "    .dataframe thead th {\n",
       "        text-align: right;\n",
       "    }\n",
       "</style>\n",
       "<table border=\"1\" class=\"dataframe\">\n",
       "  <thead>\n",
       "    <tr style=\"text-align: right;\">\n",
       "      <th></th>\n",
       "      <th>heading</th>\n",
       "      <th>content_summary</th>\n",
       "      <th>article_link</th>\n",
       "      <th>img_link</th>\n",
       "      <th>month_date</th>\n",
       "      <th>time</th>\n",
       "      <th>Year</th>\n",
       "      <th>heading_len</th>\n",
       "      <th>word_count</th>\n",
       "      <th>avg_word_len</th>\n",
       "    </tr>\n",
       "  </thead>\n",
       "  <tbody>\n",
       "    <tr>\n",
       "      <th>2915</th>\n",
       "      <td>bhopal two women molested by neighbours</td>\n",
       "      <td>A 28-year-old woman was allegedly threatened ...</td>\n",
       "      <td>https://timesofindia.indiatimes.com/city/bhopa...</td>\n",
       "      <td>https://static.toiimg.com/thumb/imgsize-123456...</td>\n",
       "      <td>Nov 23</td>\n",
       "      <td>13:18</td>\n",
       "      <td>2021</td>\n",
       "      <td>42</td>\n",
       "      <td>6</td>\n",
       "      <td>5.833333</td>\n",
       "    </tr>\n",
       "  </tbody>\n",
       "</table>\n",
       "</div>"
      ],
      "text/plain": [
       "                                        heading  \\\n",
       "2915   bhopal two women molested by neighbours    \n",
       "\n",
       "                                        content_summary  \\\n",
       "2915   A 28-year-old woman was allegedly threatened ...   \n",
       "\n",
       "                                           article_link  \\\n",
       "2915  https://timesofindia.indiatimes.com/city/bhopa...   \n",
       "\n",
       "                                               img_link month_date   time  \\\n",
       "2915  https://static.toiimg.com/thumb/imgsize-123456...     Nov 23  13:18   \n",
       "\n",
       "      Year  heading_len  word_count  avg_word_len  \n",
       "2915  2021           42           6      5.833333  "
      ]
     },
     "execution_count": 36,
     "metadata": {},
     "output_type": "execute_result"
    }
   ],
   "source": [
    "df.iloc[[2915]]"
   ]
  }
 ],
 "metadata": {
  "kernelspec": {
   "display_name": "Python 3 (ipykernel)",
   "language": "python",
   "name": "python3"
  },
  "language_info": {
   "codemirror_mode": {
    "name": "ipython",
    "version": 3
   },
   "file_extension": ".py",
   "mimetype": "text/x-python",
   "name": "python",
   "nbconvert_exporter": "python",
   "pygments_lexer": "ipython3",
   "version": "3.9.7"
  }
 },
 "nbformat": 4,
 "nbformat_minor": 5
}
